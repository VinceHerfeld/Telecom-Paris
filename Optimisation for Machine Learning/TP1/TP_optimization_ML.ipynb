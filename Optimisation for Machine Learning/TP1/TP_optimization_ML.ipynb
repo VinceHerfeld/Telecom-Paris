{
 "cells": [
  {
   "cell_type": "markdown",
   "id": "809338da",
   "metadata": {},
   "source": [
    "## Optimization for Machine Learning SD-TSIA211\n",
    "\n",
    "### Practical work on fixed point algorithms\n",
    "\n",
    "Simon Queric \\\n",
    "Vincent Herfeld"
   ]
  },
  {
   "cell_type": "code",
   "execution_count": 2,
   "id": "da445fc5",
   "metadata": {},
   "outputs": [],
   "source": [
    "import numpy as np\n",
    "import scipy.sparse as sp\n",
    "from scipy.linalg import norm, solve\n",
    "from scipy.optimize import check_grad\n",
    "import matplotlib.pyplot as plt\n",
    "from time import time"
   ]
  },
  {
   "cell_type": "code",
   "execution_count": 3,
   "id": "d4c672de",
   "metadata": {},
   "outputs": [],
   "source": [
    "def load_data(file_name_matrix='tfidf_matrix.npz', file_name_feature_names='feature_names.npy',\n",
    "          file_name_labels='train_labels.npy', samples_in_train_set=10000,\n",
    "          samples_in_test_set=137562):\n",
    "    # Recuperation des donnees\n",
    "    TF_IDF_matrix = sp.load_npz(file_name_matrix)\n",
    "    TF_IDF_feature_names = np.load(file_name_feature_names)\n",
    "    train_labels = np.load(file_name_labels, allow_pickle=True)\n",
    "    train_labels_numeric = ((train_labels == 'Oui') + 0)\n",
    "\n",
    "    X = TF_IDF_matrix[:samples_in_train_set].toarray()\n",
    "    y = train_labels_numeric[:samples_in_train_set] * 2 - 1\n",
    "\n",
    "    X_test = TF_IDF_matrix[samples_in_train_set:samples_in_train_set+samples_in_test_set].toarray()\n",
    "    y_test = train_labels_numeric[samples_in_train_set:samples_in_train_set+samples_in_test_set] * 2 - 1\n",
    "\n",
    "\n",
    "    # Standardisation des données\n",
    "    std_X = np.maximum(np.std(X, axis=0), 1e-7)\n",
    "    X = X / std_X\n",
    "    X_test = X_test / std_X\n",
    "\n",
    "    n = X.shape[0]\n",
    "    n_test = X_test.shape[0]\n",
    "    m = X.shape[1]\n",
    "\n",
    "    # Ajout d'une colonne de uns\n",
    "    eX = np.hstack((np.ones((n,1)), X))\n",
    "    eX_test = np.hstack((np.ones((n_test,1)), X_test))\n",
    "\n",
    "    return eX, y, eX_test, y_test"
   ]
  },
  {
   "cell_type": "code",
   "execution_count": 4,
   "id": "60fe0080",
   "metadata": {},
   "outputs": [],
   "source": [
    "X, y, eX_test, y_test = load_data(file_name_matrix='tfidf_matrix_97MB.npz', file_name_feature_names='feature_names_97MB.npy',file_name_labels='train_labels.npy', samples_in_train_set=10000,samples_in_test_set=137562)"
   ]
  },
  {
   "cell_type": "code",
   "execution_count": 5,
   "id": "dc1da27a",
   "metadata": {},
   "outputs": [
    {
     "name": "stdout",
     "output_type": "stream",
     "text": [
      "10000 576\n"
     ]
    }
   ],
   "source": [
    "n, p = np.shape(X)\n",
    "print(n, p)"
   ]
  },
  {
   "cell_type": "code",
   "execution_count": 6,
   "id": "0aa9083c",
   "metadata": {},
   "outputs": [],
   "source": [
    "X = np.insert(X, 0, np.ones(n), axis=1) "
   ]
  },
  {
   "cell_type": "code",
   "execution_count": 7,
   "id": "fb5ce6f0",
   "metadata": {},
   "outputs": [],
   "source": [
    "n, p = np.shape(X)\n",
    "\n",
    "def f1(w) :\n",
    "    n = len(y)\n",
    "    s = y*np.dot(X, w)\n",
    "    return 1/n * np.sum(np.log(1+np.exp(-s))) + 1/(2*n) * np.dot(w[1:], w[1:])"
   ]
  },
  {
   "cell_type": "markdown",
   "id": "6f7605a7",
   "metadata": {},
   "source": [
    "## 3. Tikhonov regularization\n",
    "\n",
    "### Question 3.1\n",
    "\n",
    "#### Gradient of $f_1$ \n",
    "\n",
    "$\\displaystyle \\nabla f_1 = \\left( \\frac{\\partial f_1}{\\partial w_i}\\right) = -\\frac{1}{n}\\sum_{k=1}^n{y_kx_{k, i}\\sigma(-y_kx_k^Tw)} + \\rho w_i \\delta_{i\\neq 0}$\n",
    "where $\\sigma(t) = \\displaystyle\\frac{e^{t}}{1+e^{t}} = \\frac{1}{1+e^{-t}}$ is the sigmoid function.\n",
    "\n",
    "#### Hessian matrix of $f_1$ \n",
    "\n",
    "$\\displaystyle \\frac{\\partial^2 f_1}{\\partial w_i \\partial w_j} = \\frac{1}{n}\\sum_{k=1}^n{x_{k, i}x_{k, j}\\frac{e^{-y_kx_k^Tw}}{(1+e^{-y_kx_k^Tw})^2}} + \\rho \\delta_{i=j, i\\neq 0}$, hence :\n",
    "\n",
    "$H = \\displaystyle \\frac{1}{n} \\sum_{k=1}^n{x_kx_k^T\\frac{e^{-y_kx_k^Tw}}{(1+e^{-y_kx_k^Tw})^2}} + \\rho(I_p - E)$ where $(E_{i, j})_{1\\leqslant i, j \\leqslant p} = (\\delta_{i, 1}\\delta_{j, 1})_{1\\leqslant i, j \\leqslant p} \\in \\mathbb{R}^p$\n",
    "\n",
    "$H$ is a sum of matrices semi-definite positive, hence $H$ is semi-definite positive. We deduce that $f_1$ is a convex function. "
   ]
  },
  {
   "cell_type": "markdown",
   "id": "291161eb",
   "metadata": {},
   "source": [
    "### Question 3.2"
   ]
  },
  {
   "cell_type": "code",
   "execution_count": 8,
   "id": "789282f9",
   "metadata": {},
   "outputs": [],
   "source": [
    "def gradf1(w) :\n",
    "    '''compute the gradient of f1'''\n",
    "    p = len(w)\n",
    "    n = len(y)\n",
    "    s = y*np.dot(X, w)\n",
    "    g = np.zeros(p)\n",
    "    z = y*np.exp(-s)/(1+np.exp(-s)) \n",
    "    a = w.copy()\n",
    "    a[0] = 0\n",
    "    g = -1/n * np.dot(X.T, z) + 1/n * a\n",
    "    return g   "
   ]
  },
  {
   "cell_type": "code",
   "execution_count": 9,
   "id": "57ad7a6f",
   "metadata": {},
   "outputs": [],
   "source": [
    "def hessf1(w) :\n",
    "    ''' compute the Hessian matrix of f1'''\n",
    "    p = len(w)\n",
    "    n = len(y)\n",
    "    s = y*np.dot(X, w)\n",
    "    I = np.eye(p)\n",
    "    I[0, 0] = 0\n",
    "    a = np.exp(-s)/(1+np.exp(-s))**2\n",
    "    H = 0\n",
    "    M = X * a[:, np.newaxis]\n",
    "    H = 1/n*np.dot(X.T, M) + 1/n * I\n",
    "    \n",
    "    return H"
   ]
  },
  {
   "cell_type": "markdown",
   "id": "c6bc0cac",
   "metadata": {},
   "source": [
    "We can check the corectness of our function <i> gradf1 </i> with the function check_grad from the library scipy.optimize :"
   ]
  },
  {
   "cell_type": "code",
   "execution_count": 10,
   "id": "b648ed0c",
   "metadata": {},
   "outputs": [
    {
     "data": {
      "text/plain": [
       "1.7954769915671704e-07"
      ]
     },
     "execution_count": 10,
     "metadata": {},
     "output_type": "execute_result"
    }
   ],
   "source": [
    "w = np.zeros(p)\n",
    "check_grad(f1, gradf1, w)"
   ]
  },
  {
   "cell_type": "code",
   "execution_count": 11,
   "id": "eb456670",
   "metadata": {},
   "outputs": [],
   "source": [
    "w0 = np.zeros(p)"
   ]
  },
  {
   "cell_type": "code",
   "execution_count": 12,
   "id": "9ef4672b",
   "metadata": {},
   "outputs": [
    {
     "data": {
      "text/plain": [
       "0.6931471805599453"
      ]
     },
     "execution_count": 12,
     "metadata": {},
     "output_type": "execute_result"
    }
   ],
   "source": [
    "f1(w0)"
   ]
  },
  {
   "cell_type": "markdown",
   "id": "da6115c7",
   "metadata": {},
   "source": [
    "Let's check the running time of our functions"
   ]
  },
  {
   "cell_type": "code",
   "execution_count": 13,
   "id": "49486dff",
   "metadata": {
    "scrolled": true
   },
   "outputs": [
    {
     "name": "stdout",
     "output_type": "stream",
     "text": [
      "0.025030136108398438 s\n"
     ]
    }
   ],
   "source": [
    "start = time()\n",
    "gradf1(w0)\n",
    "end = time()\n",
    "print(end-start, 's')"
   ]
  },
  {
   "cell_type": "code",
   "execution_count": 14,
   "id": "d1f7da03",
   "metadata": {},
   "outputs": [
    {
     "data": {
      "text/plain": [
       "1.502247420585552"
      ]
     },
     "execution_count": 14,
     "metadata": {},
     "output_type": "execute_result"
    }
   ],
   "source": [
    "np.linalg.norm(gradf1(w0))"
   ]
  },
  {
   "cell_type": "code",
   "execution_count": 15,
   "id": "e0219144",
   "metadata": {},
   "outputs": [
    {
     "name": "stdout",
     "output_type": "stream",
     "text": [
      "0.19264006614685059 s\n"
     ]
    }
   ],
   "source": [
    "start = time()\n",
    "hessf1(w0)\n",
    "end = time()\n",
    "print(end-start, 's')"
   ]
  },
  {
   "cell_type": "code",
   "execution_count": 16,
   "id": "444e77ca",
   "metadata": {},
   "outputs": [
    {
     "data": {
      "text/plain": [
       "array([[0.25      , 0.25      , 0.05359961, ..., 0.06745536, 0.14326925,\n",
       "        0.096354  ],\n",
       "       [0.25      , 0.2501    , 0.05359961, ..., 0.06745536, 0.14326925,\n",
       "        0.096354  ],\n",
       "       [0.05359961, 0.05359961, 0.26159167, ..., 0.01879477, 0.03259928,\n",
       "        0.02012643],\n",
       "       ...,\n",
       "       [0.06745536, 0.06745536, 0.01879477, ..., 0.2683009 , 0.0423312 ,\n",
       "        0.02748576],\n",
       "       [0.14326925, 0.14326925, 0.03259928, ..., 0.0423312 , 0.33220431,\n",
       "        0.06168203],\n",
       "       [0.096354  , 0.096354  , 0.02012643, ..., 0.02748576, 0.06168203,\n",
       "        0.28723638]])"
      ]
     },
     "execution_count": 16,
     "metadata": {},
     "output_type": "execute_result"
    }
   ],
   "source": [
    "hessf1(w0)"
   ]
  },
  {
   "cell_type": "markdown",
   "id": "3611cbcc",
   "metadata": {},
   "source": [
    "### Question 3.3"
   ]
  },
  {
   "cell_type": "code",
   "execution_count": 15,
   "id": "ca5ad563",
   "metadata": {},
   "outputs": [],
   "source": [
    "def NewtonsMethod(w0, eps) :\n",
    "    w = w0.copy()\n",
    "    g = gradf1(w)\n",
    "    n = np.linalg.norm(g)\n",
    "    l = [n]\n",
    "    while n>=eps :\n",
    "        w -= np.matmul(np.linalg.inv(hessf1(w)), g) \n",
    "        g = gradf1(w)\n",
    "        n = np.linalg.norm(g)\n",
    "        l.append(n)\n",
    "    return w, l"
   ]
  },
  {
   "cell_type": "code",
   "execution_count": 16,
   "id": "34bbaf1b",
   "metadata": {},
   "outputs": [],
   "source": [
    "w0 = np.zeros(p)\n",
    "\n",
    "w, l = NewtonsMethod(w0,1e-10)"
   ]
  },
  {
   "cell_type": "code",
   "execution_count": 17,
   "id": "3190a24e",
   "metadata": {},
   "outputs": [
    {
     "name": "stdout",
     "output_type": "stream",
     "text": [
      "f1(e) = 0.6931471805599453\n",
      "f1(w) = 0.5680668879863778\n"
     ]
    }
   ],
   "source": [
    "print('f1(e) =', f1(w0)) \n",
    "print('f1(w) =', f1(w))"
   ]
  },
  {
   "cell_type": "code",
   "execution_count": 18,
   "id": "099a0004",
   "metadata": {
    "scrolled": false
   },
   "outputs": [
    {
     "data": {
      "image/png": "[encoded data removed]",
      "text/plain": [
       "<Figure size 600x600 with 1 Axes>"
      ]
     },
     "metadata": {},
     "output_type": "display_data"
    }
   ],
   "source": [
    "plt.figure(figsize=(6, 6))\n",
    "plt.semilogy(l)\n",
    "plt.xlabel('iteration')\n",
    "plt.ylabel('norm of the gradient')\n",
    "plt.title(' norm of the gradient $ \\|| \\\\nabla f_1\\||$ at each step')\n",
    "plt.show()"
   ]
  },
  {
   "cell_type": "code",
   "execution_count": 19,
   "id": "62d93346",
   "metadata": {},
   "outputs": [],
   "source": [
    "w0 = np.ones(p)"
   ]
  },
  {
   "cell_type": "code",
   "execution_count": 20,
   "id": "088cff44",
   "metadata": {
    "scrolled": true
   },
   "outputs": [
    {
     "name": "stderr",
     "output_type": "stream",
     "text": [
      "/var/folders/c0/d3_lqdr53vs56db95whhzj280000gn/T/ipykernel_4884/4287560925.py:7: RuntimeWarning: overflow encountered in exp\n",
      "  z = y*np.exp(-s)/(1+np.exp(-s))\n",
      "/var/folders/c0/d3_lqdr53vs56db95whhzj280000gn/T/ipykernel_4884/4287560925.py:7: RuntimeWarning: invalid value encountered in divide\n",
      "  z = y*np.exp(-s)/(1+np.exp(-s))\n"
     ]
    }
   ],
   "source": [
    "w, l = NewtonsMethod(w0,1e-10)"
   ]
  },
  {
   "cell_type": "markdown",
   "id": "dc5ff6e5",
   "metadata": {},
   "source": [
    "### Question 3.4\n",
    "\n",
    "We perform a Armijo's line search with the classical choices of parameters : $a=0.5$, $b=2\\gamma_{k-1}$ and $\\beta = 1/2$ \n",
    "\n",
    "At each step we have to find the smallest integer $\\ell$ such that $f_1(x^+(ab^{\\ell})) \\leqslant f_1(x_k) + \\displaystyle \\frac{1}{2} \\langle \\nabla f_1(x_k), x^+(ab^{\\ell}) - x_k \\rangle$"
   ]
  },
  {
   "cell_type": "code",
   "execution_count": 21,
   "id": "0cb3a92a",
   "metadata": {},
   "outputs": [],
   "source": [
    "def linesearch(w0, eps) :\n",
    "    w = w0.copy()\n",
    "    g = gradf1(w)\n",
    "    n = np.linalg.norm(g)\n",
    "    norms = [n]\n",
    "    a = 0.5\n",
    "    b = 2\n",
    "    while n>=eps :\n",
    "        l = 0\n",
    "        s = np.matmul(np.linalg.inv(hessf1(w)), g) \n",
    "        x = w - b*a**l * s\n",
    "        while f1(x) > f1(w) + 1/2 * np.dot(g, x - w) :\n",
    "            l+=1    \n",
    "            x = w - b*a**l * s\n",
    "        w -= b*a**l * s\n",
    "        b = 2*b*a**l\n",
    "        g = gradf1(w)\n",
    "        n = np.linalg.norm(g)\n",
    "        norms.append(n)\n",
    "    return w, norms"
   ]
  },
  {
   "cell_type": "code",
   "execution_count": 22,
   "id": "f9038b55",
   "metadata": {
    "scrolled": true
   },
   "outputs": [
    {
     "name": "stderr",
     "output_type": "stream",
     "text": [
      "/var/folders/c0/d3_lqdr53vs56db95whhzj280000gn/T/ipykernel_4884/2467316492.py:6: RuntimeWarning: overflow encountered in exp\n",
      "  return 1/n * np.sum(np.log(1+np.exp(-s))) + 1/(2*n) * np.dot(w[1:], w[1:])\n"
     ]
    }
   ],
   "source": [
    "w0 = np.ones(p)\n",
    "w, norms = linesearch(w0,1e-10)"
   ]
  },
  {
   "cell_type": "code",
   "execution_count": 23,
   "id": "5f665226",
   "metadata": {},
   "outputs": [
    {
     "name": "stdout",
     "output_type": "stream",
     "text": [
      "f1(e) = 63.330022271703484\n",
      "f1(w) = 0.5680668879863778\n"
     ]
    }
   ],
   "source": [
    "print('f1(e) =', f1(w0)) \n",
    "print('f1(w) =', f1(w))"
   ]
  },
  {
   "cell_type": "code",
   "execution_count": 24,
   "id": "95c8c65b",
   "metadata": {
    "scrolled": false
   },
   "outputs": [
    {
     "data": {
      "image/png": "[encoded data removed]",
      "text/plain": [
       "<Figure size 600x600 with 1 Axes>"
      ]
     },
     "metadata": {},
     "output_type": "display_data"
    }
   ],
   "source": [
    "plt.figure(figsize=(6, 6))\n",
    "plt.semilogy(norms)\n",
    "plt.xlabel('iteration')\n",
    "plt.ylabel('norm of the gradient')\n",
    "plt.title(' norm of the gradient $ \\|| \\\\nabla f_1\\||$ at each step')\n",
    "plt.show()"
   ]
  },
  {
   "cell_type": "markdown",
   "id": "97ff86de",
   "metadata": {},
   "source": [
    "## 4. Regularization for a sparse model\n",
    "\n",
    "### Question 4.1\n",
    "\n",
    "We can't use Newton's method because the function $F_2$ isn't differentiable. \n",
    "\n",
    "### Question 4.2\n",
    "\n",
    "We can write $F_2 = f_2 + g_2$ with $g_2 : x \\mapsto  \\rho \\|x\\|_1$\n",
    "\n",
    "The formula for the proximal operator of $g_2$ is $ \\displaystyle \\text{prox}_{g_2}(x) = \\text{argmin}_y\\left\\{g_2(y) + \\frac{1}{2}\\|y - x\\|_2^2\\right\\} = \\text{argmin}_y\\left\\{ \\rho \\|y\\|_1 + \\frac{1}{2} \\|y - x\\|_2^2\\right\\}$\n",
    "\n",
    "We have $\\text{prox}_{\\gamma g_2}(x)_i = \\begin{cases}\n",
    "      0 & \\text{if} \\ |x_i| \\leqslant \\rho\\gamma \\\\\n",
    "      x_i-\\rho\\gamma & \\text{if} \\ x_i > \\rho\\gamma \\\\\n",
    "      x_i+\\rho\\gamma & \\text{if} \\ x_i < -\\rho\\gamma \\\\\n",
    "    \\end{cases}$ for a step size $\\gamma > 0$\n",
    "\n",
    "\n",
    "We have : $\\displaystyle \\frac{\\partial f_2}{\\partial w_i} = -\\frac{1}{n}\\sum_{k=1}^n{y_kx_{k, i}\\sigma(-y_kx_k^Tw)}$\n",
    "où $\\sigma(t) = \\displaystyle\\frac{e^{t}}{1+e^{t}} = \\frac{1}{1+e^{-t}}$ est la fonction sigmoïde.\n",
    "\n",
    "\n",
    "### Question 4.3\n",
    "\n",
    "The proximal gradient method consists to calculate at each step : \n",
    "\n",
    "$ x_{k+1} = \\text{prox}_{\\gamma_k g_2}(x_k - \\gamma_k \\nabla f_2 (x_k)) $ with $\\gamma_k = ba^{\\ell}$ such that $f_2(x^+(ab^{\\ell})) \\leqslant f_2(x_k) + \\displaystyle \\frac{1}{2} \\langle \\nabla f_2(x_k), x^+(ab^{\\ell}) - x_k \\rangle$ and $x^+(\\gamma) = \\text{prox}_{\\gamma g_2}(x_k - \\gamma \\nabla f_2(x_k)) $\n",
    "\n",
    "The algorithm stop when the stopping test $\\|x_{k+1}-x_k\\|\\leqslant \\varepsilon$ is true for a fixed $\\varepsilon$."
   ]
  },
  {
   "cell_type": "code",
   "execution_count": 25,
   "id": "4bc6387a",
   "metadata": {},
   "outputs": [],
   "source": [
    "rho = 0.02"
   ]
  },
  {
   "cell_type": "code",
   "execution_count": 26,
   "id": "ee361e09",
   "metadata": {},
   "outputs": [],
   "source": [
    "def f2(w) :\n",
    "    n = len(y)\n",
    "    s = y*np.dot(X, w)\n",
    "    return 1/n * np.sum(np.log(1+np.exp(-s)))"
   ]
  },
  {
   "cell_type": "code",
   "execution_count": 27,
   "id": "945b8215",
   "metadata": {},
   "outputs": [],
   "source": [
    "def gradf2(w) :\n",
    "    '''compute the gradient of f2'''\n",
    "    p = len(w)\n",
    "    n = len(y)\n",
    "    s = y*np.dot(X, w)\n",
    "    g = np.zeros(p)\n",
    "    z = y*np.exp(-s)/(1+np.exp(-s)) \n",
    "    a = w.copy()\n",
    "    a[0] = 0\n",
    "    g = -1/n * np.dot(X.T, z) \n",
    "    return g   "
   ]
  },
  {
   "cell_type": "code",
   "execution_count": 28,
   "id": "b2ee3f2f",
   "metadata": {},
   "outputs": [],
   "source": [
    "def g2(w) :\n",
    "    return 0.02 * np.sum(np.abs(w[1:]))"
   ]
  },
  {
   "cell_type": "code",
   "execution_count": 29,
   "id": "b4bbdd85",
   "metadata": {},
   "outputs": [],
   "source": [
    "def F2(w):\n",
    "    return f2(w)+g2(w)"
   ]
  },
  {
   "cell_type": "code",
   "execution_count": 30,
   "id": "b549f054",
   "metadata": {},
   "outputs": [],
   "source": [
    "def prox(w, gamma) : \n",
    "    ''' compute the proximal operator of \\gamma g2'''\n",
    "    p = len(w)\n",
    "    prox = np.zeros(p)\n",
    "    for i in range(p) :\n",
    "        if w[i]>gamma*rho :\n",
    "            prox[i] = w[i]-gamma*rho\n",
    "        if w[i]<-gamma*rho :\n",
    "            prox[i] = w[i]+gamma*rho\n",
    "    return prox"
   ]
  },
  {
   "cell_type": "code",
   "execution_count": 31,
   "id": "5c3e2eb5",
   "metadata": {},
   "outputs": [],
   "source": [
    "def prox(w, gamma) : \n",
    "    ''' compute the proximal operator of \\gamma g2'''\n",
    "    p = len(w)\n",
    "    prox = np.zeros(p)\n",
    "    for i in range(p) :\n",
    "            prox[i] = np.max(np.abs(w[i]) - rho*gamma, 0)*np.sign(w[i])\n",
    "    \n",
    "    return prox"
   ]
  },
  {
   "cell_type": "code",
   "execution_count": 32,
   "id": "eca4b0cc",
   "metadata": {},
   "outputs": [],
   "source": [
    "def ProximalMethod(w0, eps) :\n",
    "    w = w0.copy()\n",
    "    g = gradf2(w)\n",
    "    a = 0.5\n",
    "    b = 1\n",
    "    l = 0 \n",
    "    x = prox(w- b*a**l * g, b*a**l)\n",
    "    while f2(x) > f2(w) + 1/2 * np.dot(g, x - w) :\n",
    "        l+=1    \n",
    "        x = prox(w-b*a**l * g, b*a**l)\n",
    "    b = 2*b*a**l\n",
    "    g = gradf2(w)\n",
    "     \n",
    "    while np.linalg.norm(w-x) > eps :\n",
    "        l = 0 \n",
    "        w=x\n",
    "        x = prox(w- b*a**l * g, b*a**l)\n",
    "        while f2(x) > f2(w) + 1/2 * np.dot(g, x - w) :\n",
    "            l+=1    \n",
    "            x = prox(w- b*a**l * g, b*a**l)\n",
    "        b = 2*b*a**l\n",
    "        g = gradf2(w)\n",
    "    \n",
    "    return w"
   ]
  },
  {
   "cell_type": "markdown",
   "id": "c06c150a",
   "metadata": {},
   "source": [
    "We can test our proximal gradient method on some points : "
   ]
  },
  {
   "cell_type": "code",
   "execution_count": 33,
   "id": "414876e0",
   "metadata": {
    "scrolled": false
   },
   "outputs": [
    {
     "name": "stdout",
     "output_type": "stream",
     "text": [
      "F_2(w0) = 0.6931\n",
      "F_2(w) = 0.6635\n"
     ]
    }
   ],
   "source": [
    "w0 = np.zeros(p)\n",
    "print('F_2(w0) = {:.4f}'.format(F2(w0)))\n",
    "w = ProximalMethod(w0,1e-10)\n",
    "print('F_2(w) = {:.4f}'.format(F2(w)))"
   ]
  },
  {
   "cell_type": "code",
   "execution_count": 38,
   "id": "4069b996",
   "metadata": {
    "scrolled": true
   },
   "outputs": [
    {
     "name": "stdout",
     "output_type": "stream",
     "text": [
      "F_2(w0) = 74.8212\n",
      "F_2(w) = 0.8222\n"
     ]
    }
   ],
   "source": [
    "w0 = np.ones(p)\n",
    "print('F_2(w0) = {:.4f}'.format(F2(w0)))\n",
    "w = ProximalMethod(w0,1e-21)\n",
    "print('F_2(w) = {:.4f}'.format(F2(w)))"
   ]
  },
  {
   "cell_type": "code",
   "execution_count": null,
   "id": "c444d5d0",
   "metadata": {},
   "outputs": [],
   "source": []
  }
 ],
 "metadata": {
  "kernelspec": {
   "display_name": "Python 3 (ipykernel)",
   "language": "python",
   "name": "python3"
  },
  "language_info": {
   "codemirror_mode": {
    "name": "ipython",
    "version": 3
   },
   "file_extension": ".py",
   "mimetype": "text/x-python",
   "name": "python",
   "nbconvert_exporter": "python",
   "pygments_lexer": "ipython3",
   "version": "3.9.1"
  }
 },
 "nbformat": 4,
 "nbformat_minor": 5
}
